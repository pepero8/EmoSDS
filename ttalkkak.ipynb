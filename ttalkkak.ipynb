{
 "cells": [
  {
   "cell_type": "markdown",
   "metadata": {},
   "source": [
    "# 1. 환경세팅\n",
    "requirements: conda\n",
    "\n",
    "밑의 모든 코드는 EmoSDS/ 디렉토리에서 실행할 것"
   ]
  },
  {
   "cell_type": "markdown",
   "metadata": {},
   "source": [
    "## 1-1. Llama 3.2 3B 모델 다운로드"
   ]
  },
  {
   "cell_type": "code",
   "execution_count": null,
   "metadata": {},
   "outputs": [],
   "source": [
    "!curl -s https://packagecloud.io/install/repositories/github/git-lfs/script.deb.sh | sudo bash\n",
    "!sudo apt-get install git-lfs\n",
    "!git lfs install\n",
    "\n",
    "!mkdir llama/3_2/3B\n",
    "!cd llama/3_2/3B\n",
    "!git clone https://huggingface.co/meta-llama/Llama-3.2-3B-Instruct\n",
    "!cd ../../../"
   ]
  },
  {
   "cell_type": "markdown",
   "metadata": {},
   "source": [
    "## 1-2. kmeans 모델 다운로드"
   ]
  },
  {
   "cell_type": "code",
   "execution_count": null,
   "metadata": {},
   "outputs": [],
   "source": [
    "# >> 여기서 pt파일 다운받아서 utils/speech2unit 에 저장할 것.\n",
    "# https://www.notion.so/jhwanlee/Future-Internet-16dd543c7357803d96e6f9b7914048a3?pvs=4#175d543c735780dfac64fdd9e5ebe44a"
   ]
  },
  {
   "cell_type": "markdown",
   "metadata": {},
   "source": [
    "## 1-3. conda 환경 생성"
   ]
  },
  {
   "cell_type": "code",
   "execution_count": null,
   "metadata": {},
   "outputs": [],
   "source": [
    "!conda create --name emosds python=3.8\n",
    "!conda activate emosds\n",
    "!conda install pip=24.0\n",
    "!conda install cudatoolkit=11.7 -c conda-forge\n",
    "!pip install -r requirements.txt\n",
    "!pip install -U datasets\n",
    "# pip install transformers==4.34\n",
    "!pip install omegaconf==2.3.0\n",
    "!pip install accelerate==0.26.0\n",
    "!pip install torch==2.4.1\n",
    "!pip install torchaudio==2.4.1\n",
    "!pip install transformers==4.45\n",
    "!pip install --upgrade huggingface-hub\n",
    "!pip install bert_score"
   ]
  },
  {
   "cell_type": "markdown",
   "metadata": {},
   "source": [
    "# 2. 데이터 Preprocess"
   ]
  },
  {
   "cell_type": "markdown",
   "metadata": {},
   "source": [
    "## 2-1. ASR task 데이터 생성"
   ]
  },
  {
   "cell_type": "code",
   "execution_count": null,
   "metadata": {},
   "outputs": [],
   "source": [
    "# >> EmoSDS 디렉토리에서 실행\n",
    "!python3 utils/build_data.py asr\n",
    "!python3 utils/merge_jsonl_files.py data/asr_task_styletalk_train.jsonl data/asr_task_styletalk_eval.jsonl data/asr_task_styletalk_train_eval.jsonl\n",
    "!python3 utils/merge_jsonl_files.py data/asr_task_styletalk_train_eval.jsonl data/asr_task_librispeech.jsonl data/asr_task_librispeech_styletalk.jsonl"
   ]
  },
  {
   "cell_type": "markdown",
   "metadata": {},
   "source": [
    "## 2-1. Unified(ASR + Style Prediction + Response Prediction) task 데이터 생성"
   ]
  },
  {
   "cell_type": "code",
   "execution_count": null,
   "metadata": {},
   "outputs": [],
   "source": [
    "# >> EmoSDS 디렉토리에서 실행\n",
    "!python3 utils/build_data.py unified"
   ]
  },
  {
   "cell_type": "markdown",
   "metadata": {},
   "source": [
    "# 3. ASR task 훈련 진행"
   ]
  },
  {
   "cell_type": "code",
   "execution_count": null,
   "metadata": {},
   "outputs": [],
   "source": [
    "# >> EmoSDS 디렉토리에서 실행\n",
    "!bash scripts/asr_sft.sh"
   ]
  },
  {
   "cell_type": "code",
   "execution_count": null,
   "metadata": {},
   "outputs": [],
   "source": [
    "# >> 모델 zip파일로 저장(파일만 저장함)\n",
    "#    EmoSDS 디렉토리에서 실행\n",
    "# ! 실행하기 전에 zip 파일명 바꿀 것\n",
    "\n",
    "!find /shared/NAS_SSD/jhl/futureinternet/output/asr -type f -maxdepth 1 -exec zip asr_training_6epochs_20250113.zip {} +"
   ]
  },
  {
   "cell_type": "markdown",
   "metadata": {},
   "source": [
    "# 4. Unified(ASR + Style Prediction + Response Prediction) task 훈련 진행"
   ]
  },
  {
   "cell_type": "code",
   "execution_count": null,
   "metadata": {},
   "outputs": [],
   "source": [
    "# >> EmoSDS 디렉토리에서 실행\n",
    "!bash scripts/unified_sft.sh"
   ]
  },
  {
   "cell_type": "code",
   "execution_count": null,
   "metadata": {},
   "outputs": [],
   "source": [
    "# >> 모델 zip파일로 저장(파일만 저장함)\n",
    "#    EmoSDS 디렉토리에서 실행\n",
    "# ! 실행하기 전에 zip 파일명 바꿀 것\n",
    "\n",
    "!find /shared/NAS_SSD/jhl/futureinternet/output/unified -type f -maxdepth 1 -exec zip unified_training_6epochs_20250113.zip {} +"
   ]
  },
  {
   "cell_type": "markdown",
   "metadata": {},
   "source": [
    "# 5. CLI inference 수행"
   ]
  },
  {
   "cell_type": "code",
   "execution_count": null,
   "metadata": {},
   "outputs": [],
   "source": [
    "# >> EmoSDS 디렉토리에서 실행\n",
    "!python3 src/infer/cli_infer_emosds.py --model-path \"/shared/NAS_SSD/jhl/futureinternet/output/stage3/checkpoint-3600\" --output-dir \"output\"\n",
    "\n",
    "# 입력 prompt 형식: \"[History] <<Input>>: [wav파일path(assets/testprompts)]\""
   ]
  }
 ],
 "metadata": {
  "kernelspec": {
   "display_name": "SpeechGPT",
   "language": "python",
   "name": "python3"
  },
  "language_info": {
   "name": "python",
   "version": "3.8.20"
  }
 },
 "nbformat": 4,
 "nbformat_minor": 2
}
